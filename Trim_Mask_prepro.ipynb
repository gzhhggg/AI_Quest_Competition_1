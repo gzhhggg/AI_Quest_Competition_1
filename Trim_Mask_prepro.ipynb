{
 "cells": [
  {
   "cell_type": "markdown",
   "metadata": {},
   "source": [
    "## 1.ライブラリのimport"
   ]
  },
  {
   "cell_type": "code",
   "execution_count": null,
   "metadata": {},
   "outputs": [],
   "source": [
    "import pandas as pd\n",
    "import cv2\n",
    "from matplotlib import pyplot as plt\n",
    "import numpy as np \n",
    "from PIL import Image\n",
    "import glob\n",
    "import sys\n",
    "plt.gray()"
   ]
  },
  {
   "cell_type": "markdown",
   "metadata": {},
   "source": [
    "## 2.前処理はんだ付け箇所のトリミング"
   ]
  },
  {
   "cell_type": "code",
   "execution_count": 57,
   "metadata": {},
   "outputs": [],
   "source": [
    "#基板の外枠座標を出力する関数\n",
    "\n",
    "def Coordinate(results):\n",
    "    contours = results\n",
    "    x1 = [] #x座標の最小値\n",
    "    y1 = [] #y座標の最小値\n",
    "    x2 = [] #x座標の最大値\n",
    "    y2 = [] #y座標の最大値\n",
    "    for i in range(1, len(contours)):# i = 1 は画像全体の外枠になるのでカウントに入れない\n",
    "        ret = cv2.boundingRect(contours[i])\n",
    "        x1.append(ret[0])\n",
    "        y1.append(ret[1])\n",
    "        x2.append(ret[0] + ret[2])\n",
    "        y2.append(ret[1] + ret[3])\n",
    "\n",
    "    # 輪郭の一番外枠を切り抜き\n",
    "    x1_min = min(x1)\n",
    "    y1_min = min(y1)\n",
    "    x2_max = max(x2)\n",
    "    y2_max = max(y2)\n",
    "\n",
    "    x_senter =  x1_min + (x2_max - x1_min)/2\n",
    "    y_senter =  y1_min + (y2_max - y1_min)/2\n",
    "\n",
    "    judg_x = x2_max - x1_min\n",
    "    judg_y = y2_max - y1_min\n",
    "    print(judg_x)\n",
    "    print(judg_y)\n",
    "    if (judg_x > judg_y):\n",
    "        x1_min = x_senter - (judg_x/2)\n",
    "        x2_max = x_senter + (judg_x/2)\n",
    "        y1_min = y_senter - (judg_x/2)\n",
    "        y2_max = y_senter + (judg_x/2)\n",
    "    else:\n",
    "        x1_min = x_senter - (judg_y/2)\n",
    "        x2_max = x_senter + (judg_y/2)\n",
    "        y1_min = y_senter - (judg_y/2)\n",
    "        y2_max = y_senter + (judg_y/2)\n",
    "\n",
    "    if x1_min < 0:\n",
    "        x1_min = 0\n",
    "\n",
    "    if y1_min < 0:\n",
    "        y1_min = 0\n",
    "    \n",
    "    return(x1_min,y1_min,x2_max,y2_max)"
   ]
  },
  {
   "cell_type": "code",
   "execution_count": 62,
   "metadata": {},
   "outputs": [],
   "source": [
    "#基盤の色によって半田部分のみトリミングする関数\n",
    "\n",
    "def Trim_precessing(path):\n",
    "    img = cv2.imread(path)\n",
    "    hsvLower = np.array([30, 80, 0])    # 抽出する色の下限(HSV)\n",
    "    hsvUpper = np.array([90, 255, 255])    # 抽出する色の上限(HSV)\n",
    "    hsv = cv2.cvtColor(img, cv2.COLOR_BGR2HSV) # 画像をHSVに変換\n",
    "    hsv_mask = cv2.inRange(hsv, hsvLower, hsvUpper)    # HSVからマスクを作成\n",
    "    contours = cv2.findContours(hsv_mask, cv2.RETR_TREE, cv2.CHAIN_APPROX_SIMPLE)[0]\n",
    "    #Coordinate関数に入れる\n",
    "    x1_min,y1_min,x2_max,y2_max = Coordinate(contours)\n",
    "    #Opening ごみ消し\n",
    "    kernel = np.ones((10,10),np.uint8)\n",
    "    opening = cv2.morphologyEx(hsv_mask, cv2.MORPH_OPEN, kernel)\n",
    "    #Closing しろ枠作成\n",
    "    kernel = np.ones((600,600),np.uint8)\n",
    "    closing = cv2.morphologyEx(opening, cv2.MORPH_CLOSE, kernel)\n",
    "    #白黒反転\n",
    "    img2 = cv2.bitwise_not(closing)\n",
    "    #枠線を作る\n",
    "    contours = cv2.findContours(img2 , cv2.RETR_TREE, cv2.CHAIN_APPROX_SIMPLE)[0]\n",
    "    img_trim = img\n",
    "    img_trim = cv2.drawContours(img_trim,contours,-1,(0,0,255),1)\n",
    "    img3 = cv2.fillPoly(img_trim,contours,(0,0,0))\n",
    "    #再度トリミング\n",
    "    hsvLower = np.array([30, 100, 0])    # 抽出する色の下限(HSV)\n",
    "    hsvUpper = np.array([90, 255, 255])    # 抽出する色の上限(HSV)\n",
    "    hsv = cv2.cvtColor(img3, cv2.COLOR_BGR2HSV) # 画像をHSVに変換\n",
    "    hsv_mask2 = cv2.inRange(hsv, hsvLower, hsvUpper)    # HSVからマスクを作成\n",
    "    #opening ごみ消し　２回目\n",
    "    kernel = np.ones((10,10),np.uint8)\n",
    "    opening2 = cv2.morphologyEx(hsv_mask2, cv2.MORPH_OPEN, kernel)\n",
    "    #closing ごみ消し\n",
    "    kernel = np.ones((60,60),np.uint8)\n",
    "    closing2 = cv2.morphologyEx(opening2, cv2.MORPH_CLOSE, kernel)\n",
    "    #白黒反転\n",
    "    img3 = cv2.bitwise_not(closing2)\n",
    "    #白を膨張させる\n",
    "    kernel = np.ones((80,80),np.uint8)\n",
    "    dilation = cv2.dilate(img3,kernel,iterations = 1)\n",
    "    #マスクでトリミング\n",
    "    img_3ch = cv2.cvtColor(dilation,cv2.COLOR_GRAY2BGR)\n",
    "    img_masked = cv2.bitwise_and(img_3ch,img)\n",
    "    \n",
    "    crop_img = img_masked[int(y1_min):int(y2_max), int(x1_min):int(x2_max)]\n",
    "    reseize_img = cv2.resize(crop_img,dsize=(224,224))\n",
    "    cv2.imwrite(path,reseize_img)\n",
    "    return reseize_img"
   ]
  },
  {
   "cell_type": "markdown",
   "metadata": {},
   "source": [
    "## 3.画像の変更＆保存"
   ]
  },
  {
   "cell_type": "code",
   "execution_count": null,
   "metadata": {},
   "outputs": [],
   "source": [
    "names = [\"bridge\",\"horn\",\"potato\",\"regular\"]\n",
    "path = \"ファイルパス\"\n",
    "for name in names:\n",
    "    for path in glob.glob(\"path\" + name + \"\\\\*jpeg\"):\n",
    "        Trim_precessing(path)"
   ]
  }
 ],
 "metadata": {
  "interpreter": {
   "hash": "2bc0b6b3ee1b16285786469a4e25554aa5a00a161d233325d1ce41d8176ac7a8"
  },
  "kernelspec": {
   "display_name": "Python 3.9.4 64-bit",
   "name": "python3"
  },
  "language_info": {
   "codemirror_mode": {
    "name": "ipython",
    "version": 3
   },
   "file_extension": ".py",
   "mimetype": "text/x-python",
   "name": "python",
   "nbconvert_exporter": "python",
   "pygments_lexer": "ipython3",
   "version": "3.9.4"
  },
  "orig_nbformat": 4
 },
 "nbformat": 4,
 "nbformat_minor": 2
}
