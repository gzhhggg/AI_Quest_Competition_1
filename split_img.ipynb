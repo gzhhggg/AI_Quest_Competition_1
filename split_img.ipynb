{
 "cells": [
  {
   "cell_type": "markdown",
   "metadata": {},
   "source": [
    "# 画像をTrainとValidに分割する関数"
   ]
  },
  {
   "cell_type": "markdown",
   "metadata": {},
   "source": [
    "## 1.ライブラリimport"
   ]
  },
  {
   "cell_type": "code",
   "execution_count": null,
   "metadata": {},
   "outputs": [],
   "source": [
    "import os\n",
    "import shutil\n",
    "import random"
   ]
  },
  {
   "cell_type": "markdown",
   "metadata": {},
   "source": [
    "## 2.画像を分ける関数"
   ]
  },
  {
   "cell_type": "code",
   "execution_count": 4,
   "metadata": {},
   "outputs": [],
   "source": [
    "#分割する関数\n",
    "# ※train_sizeはデフォルトで0.8\n",
    "def image_dir_train_test_sprit(original_dir, base_dir, train_size=0.8):\n",
    "    '''\n",
    "    画像データをトレインデータとテストデータにシャッフルして分割します。フォルダもなければ作成します。\n",
    "\n",
    "    parameter\n",
    "    ------------\n",
    "    original_dir: str\n",
    "      オリジナルデータフォルダのパス その下に各クラスのフォルダがある\n",
    "    base_dir: str\n",
    "      分けたデータを格納するフォルダのパス　そこにフォルダが作られます\n",
    "    train_size: float\n",
    "      トレインデータの割合\n",
    "    '''\n",
    "    try:\n",
    "        os.mkdir(base_dir)\n",
    "    except FileExistsError:\n",
    "        print(base_dir + \"は作成済み\")\n",
    "\n",
    "    #クラス分のフォルダ名の取得\n",
    "    dir_lists = os.listdir(original_dir)\n",
    "    dir_lists = [f for f in dir_lists if os.path.isdir(os.path.join(original_dir, f))]\n",
    "    original_dir_path = [os.path.join(original_dir, p) for p in dir_lists]\n",
    "\n",
    "    num_class = len(dir_lists)\n",
    "\n",
    "    # フォルダの作成(トレインとバリデーション)\n",
    "    try:\n",
    "        train_dir = os.path.join(base_dir, 'train')\n",
    "        os.mkdir(train_dir)\n",
    "    except FileExistsError:\n",
    "        print(train_dir + \"は作成済み\")\n",
    "\n",
    "    try:\n",
    "        validation_dir = os.path.join(base_dir, 'validation')\n",
    "        os.mkdir(validation_dir)\n",
    "    except FileExistsError:\n",
    "        print(validation_dir + \"は作成済み\")\n",
    "\n",
    "    #クラスフォルダの作成\n",
    "    train_dir_path_lists = []\n",
    "    val_dir_path_lists = []\n",
    "    for D in dir_lists:\n",
    "        train_class_dir_path = os.path.join(train_dir, D)\n",
    "        try:\n",
    "            os.mkdir(train_class_dir_path)\n",
    "        except FileExistsError:\n",
    "            print(train_class_dir_path + \"は作成済み\")\n",
    "        train_dir_path_lists += [train_class_dir_path]\n",
    "        val_class_dir_path = os.path.join(validation_dir, D)\n",
    "        try:\n",
    "            os.mkdir(val_class_dir_path)\n",
    "        except FileExistsError:\n",
    "            print(val_class_dir_path + \"は作成済み\")\n",
    "        val_dir_path_lists += [val_class_dir_path]\n",
    "\n",
    "\n",
    "    #元データをシャッフルしたものを上で作ったフォルダにコピーします。\n",
    "    #ファイル名を取得してシャッフル\n",
    "    for i,path in enumerate(original_dir_path):\n",
    "        files_class = os.listdir(path)\n",
    "        random.shuffle(files_class)\n",
    "        # 分割地点のインデックスを取得\n",
    "        num_bunkatu = int(len(files_class) * train_size)\n",
    "        #トレインへファイルをコピー\n",
    "        for fname in files_class[:num_bunkatu]:\n",
    "            src = os.path.join(path, fname)\n",
    "            dst = os.path.join(train_dir_path_lists[i], fname)\n",
    "            shutil.copyfile(src, dst)\n",
    "        #valへファイルをコピー\n",
    "        for fname in files_class[num_bunkatu:]:\n",
    "            src = os.path.join(path, fname)\n",
    "            dst = os.path.join(val_dir_path_lists[i], fname)\n",
    "            shutil.copyfile(src, dst)\n",
    "        print(path + \"コピー完了\")\n",
    "\n",
    "    print(\"分割終了\")"
   ]
  },
  {
   "cell_type": "code",
   "execution_count": null,
   "metadata": {},
   "outputs": [],
   "source": [
    "def main():\n",
    "    original_dir = \"ファイルパス\"\n",
    "    base_dir = \"ファイルパス\"\n",
    "    train_size = 0.8\n",
    "    image_dir_train_test_sprit(original_dir, base_dir, train_size)"
   ]
  },
  {
   "cell_type": "code",
   "execution_count": 5,
   "metadata": {},
   "outputs": [
    {
     "name": "stdout",
     "output_type": "stream",
     "text": [
      "C:\\Users\\81902\\Desktop\\AI_task2\\HSV_trim224_20211006_2\\train_valid_splitは作成済み\n",
      "C:\\Users\\81902\\Desktop\\AI_task2\\HSV_trim224_20211006_2\\all_data\\bridgeコピー完了\n",
      "C:\\Users\\81902\\Desktop\\AI_task2\\HSV_trim224_20211006_2\\all_data\\hornコピー完了\n",
      "C:\\Users\\81902\\Desktop\\AI_task2\\HSV_trim224_20211006_2\\all_data\\potatoコピー完了\n",
      "C:\\Users\\81902\\Desktop\\AI_task2\\HSV_trim224_20211006_2\\all_data\\regularコピー完了\n",
      "分割終了\n"
     ]
    }
   ],
   "source": [
    "if __name__ == \"__main__\":\n",
    "    main()"
   ]
  }
 ],
 "metadata": {
  "interpreter": {
   "hash": "6913a4648c3d991497e4a4f35246c64898b7da78e9fd5088ec48a8b6594ca80f"
  },
  "kernelspec": {
   "display_name": "Python 3.9.4 64-bit ('venv': venv)",
   "name": "python3"
  },
  "language_info": {
   "codemirror_mode": {
    "name": "ipython",
    "version": 3
   },
   "file_extension": ".py",
   "mimetype": "text/x-python",
   "name": "python",
   "nbconvert_exporter": "python",
   "pygments_lexer": "ipython3",
   "version": "3.9.4"
  },
  "orig_nbformat": 4
 },
 "nbformat": 4,
 "nbformat_minor": 2
}
