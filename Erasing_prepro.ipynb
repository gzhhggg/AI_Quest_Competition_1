{
 "cells": [
  {
   "cell_type": "markdown",
   "metadata": {},
   "source": [
    "# ランダムに短形を重ねて学習画像を増やす"
   ]
  },
  {
   "cell_type": "markdown",
   "metadata": {},
   "source": [
    "## 1.ライブラリImport"
   ]
  },
  {
   "cell_type": "code",
   "execution_count": 14,
   "metadata": {},
   "outputs": [],
   "source": [
    "import matplotlib.pyplot as plt\n",
    "from keras.preprocessing import image\n",
    "from keras.preprocessing.image import ImageDataGenerator\n",
    "import pandas as pd \n",
    "import numpy as np\n",
    "import cv2\n",
    "import glob"
   ]
  },
  {
   "cell_type": "markdown",
   "metadata": {},
   "source": [
    "## 2.短形画像を重ねる"
   ]
  },
  {
   "cell_type": "code",
   "execution_count": 24,
   "metadata": {},
   "outputs": [],
   "source": [
    "def random_erasing(file_path, p=0.5, sl=0.02, sh=0.4, r1=0.3, r2=3.3):\n",
    "    img = cv2.imread(file_path)\n",
    "    target_img = img.copy()\n",
    "\n",
    "    if p < np.random.rand():\n",
    "        # RandomErasingを実行しない\n",
    "        return target_img \n",
    "\n",
    "    H, W, _ = target_img.shape\n",
    "    S = H * W\n",
    "\n",
    "    while True:\n",
    "        Se = np.random.uniform(sl, sh) * S # 画像に重畳する矩形の面積\n",
    "        re = np.random.uniform(r1, r2) # 画像に重畳する矩形のアスペクト比\n",
    "\n",
    "        He = int(np.sqrt(Se * re)) # 画像に重畳する矩形のHeight\n",
    "        We = int(np.sqrt(Se / re)) # 画像に重畳する矩形のWidth\n",
    "\n",
    "        xe = np.random.randint(0, W) # 画像に重畳する矩形のx座標\n",
    "        ye = np.random.randint(0, H) # 画像に重畳する矩形のy座標\n",
    "\n",
    "        if xe + We <= W and ye + He <= H:\n",
    "            # 画像に重畳する矩形が画像からはみ出していなければbreak\n",
    "            break\n",
    "\n",
    "    mask = np.random.randint(0, 255, (He, We, 3)) # 矩形がを生成 矩形内の値はランダム値\n",
    "    target_img[ye:ye + He, xe:xe + We, :] = mask # 画像に矩形を重畳\n",
    "    cv2.imwrite(file_path,target_img)\n",
    "    "
   ]
  },
  {
   "cell_type": "markdown",
   "metadata": {},
   "source": [
    "## 3.画像を出力する"
   ]
  },
  {
   "cell_type": "code",
   "execution_count": 25,
   "metadata": {},
   "outputs": [],
   "source": [
    "j = 1\n",
    "lists = [\"bridge\",\"horn\",\"potato\",\"regular\"]\n",
    "path = \"ファイルパス\"\n",
    "for list in lists:\n",
    "    save_path = path + list\n",
    "    for img in glob.glob(save_path + \"\\\\*.jp\" + \"*g\"):\n",
    "        #print(img)\n",
    "        random_erasing(img)\n"
   ]
  }
 ],
 "metadata": {
  "interpreter": {
   "hash": "2bc0b6b3ee1b16285786469a4e25554aa5a00a161d233325d1ce41d8176ac7a8"
  },
  "kernelspec": {
   "display_name": "Python 3.9.4 64-bit",
   "name": "python3"
  },
  "language_info": {
   "codemirror_mode": {
    "name": "ipython",
    "version": 3
   },
   "file_extension": ".py",
   "mimetype": "text/x-python",
   "name": "python",
   "nbconvert_exporter": "python",
   "pygments_lexer": "ipython3",
   "version": "3.9.4"
  },
  "orig_nbformat": 4
 },
 "nbformat": 4,
 "nbformat_minor": 2
}
