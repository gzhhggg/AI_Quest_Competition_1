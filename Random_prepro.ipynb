{
 "cells": [
  {
   "cell_type": "markdown",
   "metadata": {},
   "source": [
    "# ImageDataGeneratorで学習画像を増やす"
   ]
  },
  {
   "cell_type": "markdown",
   "metadata": {},
   "source": [
    "## 1.ライブラリのimport"
   ]
  },
  {
   "cell_type": "code",
   "execution_count": 4,
   "metadata": {},
   "outputs": [],
   "source": [
    "import PIL\n",
    "from keras.preprocessing.image import load_img,img_to_array,ImageDataGenerator,array_to_img\n",
    "import numpy as np\n",
    "import os\n",
    "import matplotlib.pyplot as plt\n",
    "%matplotlib inline\n",
    "import glob"
   ]
  },
  {
   "cell_type": "markdown",
   "metadata": {},
   "source": [
    "## 2.パラメータの設定"
   ]
  },
  {
   "cell_type": "code",
   "execution_count": 24,
   "metadata": {},
   "outputs": [],
   "source": [
    "# 画像データ生成器を作成する。\n",
    "params = {\n",
    "    'rotation_range': 8,\n",
    "    'shear_range':5, \n",
    "    'horizontal_flip':True, \n",
    "    'vertical_flip':True,\n",
    "    \"channel_shift_range\":20,\n",
    "    \"zoom_range\":0.2,\n",
    "    \"brightness_range\":[1.0, 1.2]\n",
    "}\n"
   ]
  },
  {
   "cell_type": "markdown",
   "metadata": {},
   "source": [
    "## 3.ランダムで画像を生成"
   ]
  },
  {
   "cell_type": "code",
   "execution_count": 19,
   "metadata": {},
   "outputs": [],
   "source": [
    "def load_date(IMAGE_FILE,save_path,j):\n",
    "    img = load_img(IMAGE_FILE)\n",
    "    x = img_to_array(img)\n",
    "    x = np.expand_dims(x,axis=0)\n",
    "    datagen = ImageDataGenerator(**params)\n",
    "    g = datagen.flow(x,batch_size=1,save_to_dir=save_path,save_prefix=j,save_format=\"jpg\")\n",
    "    for i in range(10):\n",
    "        next(g)\n"
   ]
  },
  {
   "cell_type": "code",
   "execution_count": 25,
   "metadata": {},
   "outputs": [],
   "source": [
    "j = 1\n",
    "lists = [\"bridge\",\"horn\",\"potato\",\"regular\"]\n",
    "path = \"フォルダパス\"\n",
    "for list in lists:\n",
    "    save_path = path + list\n",
    "    j = 1\n",
    "    for img in glob.glob(save_path + \"\\\\*.jpeg\"):\n",
    "        load_date(img,save_path,j)\n",
    "        j = j + 1"
   ]
  }
 ],
 "metadata": {
  "interpreter": {
   "hash": "2bc0b6b3ee1b16285786469a4e25554aa5a00a161d233325d1ce41d8176ac7a8"
  },
  "kernelspec": {
   "display_name": "Python 3.9.4 64-bit",
   "name": "python3"
  },
  "language_info": {
   "codemirror_mode": {
    "name": "ipython",
    "version": 3
   },
   "file_extension": ".py",
   "mimetype": "text/x-python",
   "name": "python",
   "nbconvert_exporter": "python",
   "pygments_lexer": "ipython3",
   "version": "3.9.4"
  },
  "orig_nbformat": 4
 },
 "nbformat": 4,
 "nbformat_minor": 2
}
